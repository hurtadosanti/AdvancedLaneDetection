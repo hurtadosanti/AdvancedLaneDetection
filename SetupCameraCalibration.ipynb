{
 "cells": [
  {
   "cell_type": "code",
   "execution_count": 1,
   "metadata": {
    "collapsed": true
   },
   "outputs": [
    {
     "name": "stderr",
     "output_type": "stream",
     "text": [
      "WARNING:root:no corners found on file:./camera_cal/calibration4.jpg\n",
      "WARNING:root:no corners found on file:./camera_cal/calibration1.jpg\n",
      "WARNING:root:no corners found on file:./camera_cal/calibration5.jpg\n"
     ]
    }
   ],
   "source": [
    "from utilities import calibration\n",
    "\n",
    "c = calibration.CameraCalibration()\n",
    "op, ip = c.calibrate_camera('./camera_cal/calibration*.jpg')\n",
    "c.serialize_calibration('./camera_cal')"
   ]
  },
  {
   "cell_type": "code",
   "execution_count": null,
   "outputs": [],
   "source": [],
   "metadata": {
    "collapsed": false,
    "pycharm": {
     "name": "#%%\n"
    }
   }
  }
 ],
 "metadata": {
  "kernelspec": {
   "display_name": "Python 3",
   "language": "python",
   "name": "python3"
  },
  "language_info": {
   "codemirror_mode": {
    "name": "ipython",
    "version": 2
   },
   "file_extension": ".py",
   "mimetype": "text/x-python",
   "name": "python",
   "nbconvert_exporter": "python",
   "pygments_lexer": "ipython2",
   "version": "2.7.6"
  }
 },
 "nbformat": 4,
 "nbformat_minor": 0
}